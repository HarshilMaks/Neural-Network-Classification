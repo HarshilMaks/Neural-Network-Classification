{
 "cells": [
  {
   "cell_type": "code",
   "execution_count": 1,
   "metadata": {},
   "outputs": [],
   "source": [
    "import torch\n",
    "from torch import nn\n",
    "import matplotlib.pyplot as plt"
   ]
  },
  {
   "cell_type": "code",
   "execution_count": 2,
   "metadata": {},
   "outputs": [
    {
     "data": {
      "text/plain": [
       "(tensor([[0.0000],\n",
       "         [0.0200],\n",
       "         [0.0400],\n",
       "         [0.0600],\n",
       "         [0.0800],\n",
       "         [0.1000],\n",
       "         [0.1200],\n",
       "         [0.1400],\n",
       "         [0.1600],\n",
       "         [0.1800]]),\n",
       " tensor([[0.3000],\n",
       "         [0.3140],\n",
       "         [0.3280],\n",
       "         [0.3420],\n",
       "         [0.3560],\n",
       "         [0.3700],\n",
       "         [0.3840],\n",
       "         [0.3980],\n",
       "         [0.4120],\n",
       "         [0.4260]]))"
      ]
     },
     "execution_count": 2,
     "metadata": {},
     "output_type": "execute_result"
    }
   ],
   "source": [
    "weight = 0.7\n",
    "bias = 0.3\n",
    "\n",
    "start = 0\n",
    "end = 1\n",
    "step = 0.02\n",
    "X = torch.arange(start, end, step).unsqueeze(dim=1)\n",
    "y = weight * X + bias\n",
    "\n",
    "X[:10], y[:10]"
   ]
  },
  {
   "cell_type": "code",
   "execution_count": 3,
   "metadata": {},
   "outputs": [
    {
     "data": {
      "text/plain": [
       "(40, 40, 10, 10)"
      ]
     },
     "execution_count": 3,
     "metadata": {},
     "output_type": "execute_result"
    }
   ],
   "source": [
    "train_split = int(0.8 * len(X)) # 80% of data used for training set, 20% for testing \n",
    "X_train, y_train = X[:train_split], y[:train_split]\n",
    "X_test, y_test = X[train_split:], y[train_split:]\n",
    "\n",
    "len(X_train), len(y_train), len(X_test), len(y_test)"
   ]
  },
  {
   "cell_type": "code",
   "execution_count": 4,
   "metadata": {},
   "outputs": [],
   "source": [
    "def plot_predictions(predictions=None):\n",
    "    \"\"\"\n",
    "    Plot training data, test data, and model predictions\n",
    "    Args:\n",
    "        predictions: Model predictions (tensor)\n",
    "    \"\"\"\n",
    "    plt.figure(figsize=(10, 6))\n",
    "    \n",
    "    # Convert tensors to numpy arrays and detach gradients\n",
    "    test_data = X_test.detach().numpy()\n",
    "    test_labels = y_test.detach().numpy()\n",
    "    \n",
    "    # Plot training data\n",
    "    plt.scatter(X_train.detach().numpy(), \n",
    "                y_train.detach().numpy(), \n",
    "                c=\"b\", \n",
    "                s=4, \n",
    "                label=\"Training data\")\n",
    "    \n",
    "    # Plot test data\n",
    "    plt.scatter(test_data, \n",
    "                test_labels, \n",
    "                c=\"g\", \n",
    "                s=4, \n",
    "                label=\"Testing data\")\n",
    "    \n",
    "    # Plot predictions if available\n",
    "    if predictions is not None:\n",
    "        plt.scatter(test_data, \n",
    "                    predictions.detach().numpy(), \n",
    "                    c=\"r\", \n",
    "                    s=4, \n",
    "                    label=\"Predictions\")\n",
    "    \n",
    "    plt.legend(prop={\"size\": 14})\n",
    "    plt.show()"
   ]
  },
  {
   "cell_type": "code",
   "execution_count": 5,
   "metadata": {},
   "outputs": [],
   "source": [
    "# linear regression model \n",
    "class linearregression(nn.Module):\n",
    "    def __init__(self):\n",
    "        super().__init__()\n",
    "        self.weights = nn.Parameter(torch.randn(1, requires_grad=True, dtype=torch.float32))\n",
    "        self.bias = nn.Parameter(torch.randn(1, requires_grad=True, dtype = torch.float32))\n",
    "        \n",
    "    def forward(self, x: torch.Tensor):\n",
    "        return self.weights * x + self.bias"
   ]
  },
  {
   "cell_type": "code",
   "execution_count": 6,
   "metadata": {},
   "outputs": [
    {
     "data": {
      "text/plain": [
       "[Parameter containing:\n",
       " tensor([-0.8159], requires_grad=True),\n",
       " Parameter containing:\n",
       " tensor([0.6431], requires_grad=True)]"
      ]
     },
     "execution_count": 6,
     "metadata": {},
     "output_type": "execute_result"
    }
   ],
   "source": [
    "torch.manual_seed(64)\n",
    "m1= linearregression()\n",
    "list(m1.parameters())"
   ]
  },
  {
   "cell_type": "code",
   "execution_count": 7,
   "metadata": {},
   "outputs": [
    {
     "data": {
      "text/plain": [
       "tensor([[-0.0097],\n",
       "        [-0.0260],\n",
       "        [-0.0423],\n",
       "        [-0.0586],\n",
       "        [-0.0750],\n",
       "        [-0.0913],\n",
       "        [-0.1076],\n",
       "        [-0.1239],\n",
       "        [-0.1402],\n",
       "        [-0.1566]])"
      ]
     },
     "execution_count": 7,
     "metadata": {},
     "output_type": "execute_result"
    }
   ],
   "source": [
    "with torch.inference_mode():\n",
    "    y_preds = m1(X_test)\n",
    "    \n",
    "y_preds"
   ]
  },
  {
   "cell_type": "code",
   "execution_count": 8,
   "metadata": {},
   "outputs": [
    {
     "name": "stdout",
     "output_type": "stream",
     "text": [
      "Number of testing samples: 10\n",
      "Number of predictions made: 10\n",
      "Predicted values:\n",
      "tensor([[-0.0097],\n",
      "        [-0.0260],\n",
      "        [-0.0423],\n",
      "        [-0.0586],\n",
      "        [-0.0750],\n",
      "        [-0.0913],\n",
      "        [-0.1076],\n",
      "        [-0.1239],\n",
      "        [-0.1402],\n",
      "        [-0.1566]])\n"
     ]
    }
   ],
   "source": [
    "# Check the predictions\n",
    "print(f\"Number of testing samples: {len(X_test)}\") \n",
    "print(f\"Number of predictions made: {len(y_preds)}\")\n",
    "print(f\"Predicted values:\\n{y_preds}\")"
   ]
  },
  {
   "cell_type": "code",
   "execution_count": 9,
   "metadata": {},
   "outputs": [],
   "source": [
    "loss_fn = nn.L1Loss()\n",
    "optim = torch.optim.SGD(params=m1.parameters(),lr=0.1)"
   ]
  },
  {
   "cell_type": "code",
   "execution_count": 10,
   "metadata": {},
   "outputs": [
    {
     "name": "stdout",
     "output_type": "stream",
     "text": [
      "Epoch: 0 | Loss: 0.35393890738487244 | Test loss: 0.9372870326042175\n",
      "OrderedDict({'weights': tensor([-0.7835]), 'bias': tensor([0.6831])})\n",
      "Epoch: 10 | Loss: 0.252789169549942 | Test loss: 0.6090431809425354\n",
      "OrderedDict({'weights': tensor([-0.5439]), 'bias': tensor([0.7981])})\n",
      "Epoch: 20 | Loss: 0.21740368008613586 | Test loss: 0.4988429546356201\n",
      "OrderedDict({'weights': tensor([-0.3639]), 'bias': tensor([0.7481])})\n",
      "Epoch: 30 | Loss: 0.18305185437202454 | Test loss: 0.42298784852027893\n",
      "OrderedDict({'weights': tensor([-0.1944]), 'bias': tensor([0.6731])})\n",
      "Epoch: 40 | Loss: 0.14875565469264984 | Test loss: 0.3402637839317322\n",
      "OrderedDict({'weights': tensor([-0.0228]), 'bias': tensor([0.6031])})\n",
      "Epoch: 50 | Loss: 0.11436767876148224 | Test loss: 0.25753968954086304\n",
      "OrderedDict({'weights': tensor([0.1488]), 'bias': tensor([0.5331])})\n",
      "Epoch: 60 | Loss: 0.08003256469964981 | Test loss: 0.18168458342552185\n",
      "OrderedDict({'weights': tensor([0.3183]), 'bias': tensor([0.4581])})\n",
      "Epoch: 70 | Loss: 0.04571964591741562 | Test loss: 0.09896042943000793\n",
      "OrderedDict({'weights': tensor([0.4899]), 'bias': tensor([0.3881])})\n",
      "Epoch: 80 | Loss: 0.039721377193927765 | Test loss: 0.11851134151220322\n",
      "OrderedDict({'weights': tensor([0.6140]), 'bias': tensor([0.2581])})\n",
      "Epoch: 90 | Loss: 0.039721377193927765 | Test loss: 0.11851134151220322\n",
      "OrderedDict({'weights': tensor([0.6140]), 'bias': tensor([0.2581])})\n",
      "Epoch: 100 | Loss: 0.039721377193927765 | Test loss: 0.11851134151220322\n",
      "OrderedDict({'weights': tensor([0.6140]), 'bias': tensor([0.2581])})\n",
      "Epoch: 110 | Loss: 0.039721377193927765 | Test loss: 0.11851134151220322\n",
      "OrderedDict({'weights': tensor([0.6140]), 'bias': tensor([0.2581])})\n",
      "Epoch: 120 | Loss: 0.039721377193927765 | Test loss: 0.11851134151220322\n",
      "OrderedDict({'weights': tensor([0.6140]), 'bias': tensor([0.2581])})\n",
      "Epoch: 130 | Loss: 0.039721377193927765 | Test loss: 0.11851134151220322\n",
      "OrderedDict({'weights': tensor([0.6140]), 'bias': tensor([0.2581])})\n",
      "Epoch: 140 | Loss: 0.039721377193927765 | Test loss: 0.11851134151220322\n",
      "OrderedDict({'weights': tensor([0.6140]), 'bias': tensor([0.2581])})\n",
      "Epoch: 150 | Loss: 0.039721377193927765 | Test loss: 0.11851134151220322\n",
      "OrderedDict({'weights': tensor([0.6140]), 'bias': tensor([0.2581])})\n",
      "Epoch: 160 | Loss: 0.039721377193927765 | Test loss: 0.11851134151220322\n",
      "OrderedDict({'weights': tensor([0.6140]), 'bias': tensor([0.2581])})\n",
      "Epoch: 170 | Loss: 0.039721377193927765 | Test loss: 0.11851134151220322\n",
      "OrderedDict({'weights': tensor([0.6140]), 'bias': tensor([0.2581])})\n",
      "Epoch: 180 | Loss: 0.039721377193927765 | Test loss: 0.11851134151220322\n",
      "OrderedDict({'weights': tensor([0.6140]), 'bias': tensor([0.2581])})\n",
      "Epoch: 190 | Loss: 0.039721377193927765 | Test loss: 0.11851134151220322\n",
      "OrderedDict({'weights': tensor([0.6140]), 'bias': tensor([0.2581])})\n"
     ]
    }
   ],
   "source": [
    "torch.manual_seed(86)\n",
    "\n",
    "epochs = 200\n",
    "\n",
    "epoch_count = []\n",
    "loss_values = []\n",
    "test_loss_values = []\n",
    "\n",
    "for epoch in range(epochs):\n",
    "    \n",
    "    m1.train()\n",
    "    \n",
    "    y_pred = m1(X_train)\n",
    "    \n",
    "    loss = loss_fn(y_pred, y_train)\n",
    "    \n",
    "    optim.zero_grad()\n",
    "    \n",
    "    loss.backward()\n",
    "    \n",
    "    optim.step()\n",
    "    \n",
    "    m1.eval()\n",
    "    with torch.inference_mode():\n",
    "        test_pred = m1(X_test)\n",
    "        \n",
    "        test_loss = loss_fn(test_pred, y_test)\n",
    "        \n",
    "    if epoch % 10 == 0:\n",
    "        \n",
    "        epoch_count.append(epoch)\n",
    "        loss_values.append(loss)\n",
    "        test_loss_values.append(test_loss)\n",
    "        \n",
    "        print(f\"Epoch: {epoch} | Loss: {loss} | Test loss: {test_loss}\")\n",
    "        print(m1.state_dict())"
   ]
  },
  {
   "cell_type": "code",
   "execution_count": 11,
   "metadata": {},
   "outputs": [
    {
     "data": {
      "text/plain": [
       "OrderedDict([('weights', tensor([0.6530])), ('bias', tensor([0.3581]))])"
      ]
     },
     "execution_count": 11,
     "metadata": {},
     "output_type": "execute_result"
    }
   ],
   "source": [
    "m1.state_dict()"
   ]
  },
  {
   "cell_type": "code",
   "execution_count": 12,
   "metadata": {},
   "outputs": [
    {
     "data": {
      "text/plain": [
       "OrderedDict([('weights', tensor([0.6530])), ('bias', tensor([0.3581]))])"
      ]
     },
     "execution_count": 12,
     "metadata": {},
     "output_type": "execute_result"
    }
   ],
   "source": [
    "m1.state_dict()"
   ]
  },
  {
   "cell_type": "code",
   "execution_count": 13,
   "metadata": {},
   "outputs": [
    {
     "data": {
      "text/plain": [
       "(0.7, 0.3)"
      ]
     },
     "execution_count": 13,
     "metadata": {},
     "output_type": "execute_result"
    }
   ],
   "source": [
    "weight, bias"
   ]
  },
  {
   "cell_type": "code",
   "execution_count": 14,
   "metadata": {},
   "outputs": [],
   "source": [
    "y_preds_new = m1(X_test)"
   ]
  },
  {
   "cell_type": "code",
   "execution_count": 15,
   "metadata": {},
   "outputs": [
    {
     "data": {
      "image/png": "[encoded data removed]",
      "text/plain": [
       "<Figure size 1000x600 with 1 Axes>"
      ]
     },
     "metadata": {},
     "output_type": "display_data"
    }
   ],
   "source": [
    "plot_predictions(predictions=y_preds);"
   ]
  },
  {
   "cell_type": "code",
   "execution_count": 16,
   "metadata": {},
   "outputs": [
    {
     "data": {
      "image/png": "[encoded data removed]",
      "text/plain": [
       "<Figure size 1000x600 with 1 Axes>"
      ]
     },
     "metadata": {},
     "output_type": "display_data"
    }
   ],
   "source": [
    "plot_predictions(predictions=y_preds_new);"
   ]
  },
  {
   "cell_type": "code",
   "execution_count": 17,
   "metadata": {},
   "outputs": [
    {
     "data": {
      "text/plain": [
       "(array([0.3539389 , 0.25278917, 0.21740368, 0.18305185, 0.14875565,\n",
       "        0.11436768, 0.08003256, 0.04571965, 0.03972138, 0.03972138,\n",
       "        0.03972138, 0.03972138, 0.03972138, 0.03972138, 0.03972138,\n",
       "        0.03972138, 0.03972138, 0.03972138, 0.03972138, 0.03972138],\n",
       "       dtype=float32),\n",
       " [tensor(0.9373),\n",
       "  tensor(0.6090),\n",
       "  tensor(0.4988),\n",
       "  tensor(0.4230),\n",
       "  tensor(0.3403),\n",
       "  tensor(0.2575),\n",
       "  tensor(0.1817),\n",
       "  tensor(0.0990),\n",
       "  tensor(0.1185),\n",
       "  tensor(0.1185),\n",
       "  tensor(0.1185),\n",
       "  tensor(0.1185),\n",
       "  tensor(0.1185),\n",
       "  tensor(0.1185),\n",
       "  tensor(0.1185),\n",
       "  tensor(0.1185),\n",
       "  tensor(0.1185),\n",
       "  tensor(0.1185),\n",
       "  tensor(0.1185),\n",
       "  tensor(0.1185)])"
      ]
     },
     "execution_count": 17,
     "metadata": {},
     "output_type": "execute_result"
    }
   ],
   "source": [
    "import numpy as np\n",
    "np.array(torch.tensor(loss_values).cpu().numpy()), test_loss_values"
   ]
  },
  {
   "cell_type": "code",
   "execution_count": 18,
   "metadata": {},
   "outputs": [
    {
     "data": {
      "image/png": "[encoded data removed]",
      "text/plain": [
       "<Figure size 640x480 with 1 Axes>"
      ]
     },
     "metadata": {},
     "output_type": "display_data"
    }
   ],
   "source": [
    "plt.plot(epoch_count,np.array(torch.tensor(loss_values).cpu().numpy()), label = \"Train Loss\")\n",
    "plt.plot(epoch_count, test_loss_values, label = \"Test Loss\")\n",
    "plt.title(\"Training and test loss curves\")\n",
    "plt.ylabel(\"Loss\")\n",
    "plt.xlabel(\"epochs\")\n",
    "plt.legend();"
   ]
  },
  {
   "cell_type": "code",
   "execution_count": 19,
   "metadata": {},
   "outputs": [
    {
     "name": "stdout",
     "output_type": "stream",
     "text": [
      "Saving model to: models/01_pytorch.pth\n"
     ]
    }
   ],
   "source": [
    "from pathlib import Path\n",
    "\n",
    "path_of_model = Path(\"models\")\n",
    "\n",
    "path_of_model.mkdir(parents=True, exist_ok=True)\n",
    "\n",
    "model_name = \"01_pytorch.pth\"\n",
    "model_save_path = path_of_model / model_name\n",
    "\n",
    "print(f\"Saving model to: {model_save_path}\")\n",
    "torch.save(obj=m1.state_dict(),\n",
    "           f = model_save_path)\n",
    "\n"
   ]
  },
  {
   "cell_type": "code",
   "execution_count": 20,
   "metadata": {},
   "outputs": [
    {
     "name": "stdout",
     "output_type": "stream",
     "text": [
      "01_pytorch.pth\n"
     ]
    }
   ],
   "source": [
    "!ls -1 models"
   ]
  },
  {
   "cell_type": "code",
   "execution_count": 21,
   "metadata": {},
   "outputs": [
    {
     "data": {
      "text/plain": [
       "OrderedDict([('weights', tensor([0.4827])), ('bias', tensor([-0.1945]))])"
      ]
     },
     "execution_count": 21,
     "metadata": {},
     "output_type": "execute_result"
    }
   ],
   "source": [
    "load_m1 = linearregression()\n",
    "load_m1.state_dict()"
   ]
  },
  {
   "cell_type": "code",
   "execution_count": 22,
   "metadata": {},
   "outputs": [
    {
     "data": {
      "text/plain": [
       "<All keys matched successfully>"
      ]
     },
     "execution_count": 22,
     "metadata": {},
     "output_type": "execute_result"
    }
   ],
   "source": [
    "load_m1.load_state_dict(torch.load(f=model_save_path))"
   ]
  },
  {
   "cell_type": "code",
   "execution_count": 23,
   "metadata": {},
   "outputs": [
    {
     "data": {
      "text/plain": [
       "OrderedDict([('weights', tensor([0.6530])), ('bias', tensor([0.3581]))])"
      ]
     },
     "execution_count": 23,
     "metadata": {},
     "output_type": "execute_result"
    }
   ],
   "source": [
    "load_m1.state_dict()"
   ]
  },
  {
   "cell_type": "code",
   "execution_count": 24,
   "metadata": {},
   "outputs": [
    {
     "data": {
      "text/plain": [
       "tensor([[0.8804],\n",
       "        [0.8935],\n",
       "        [0.9066],\n",
       "        [0.9196],\n",
       "        [0.9327],\n",
       "        [0.9457],\n",
       "        [0.9588],\n",
       "        [0.9718],\n",
       "        [0.9849],\n",
       "        [0.9980]])"
      ]
     },
     "execution_count": 24,
     "metadata": {},
     "output_type": "execute_result"
    }
   ],
   "source": [
    "load_m1.eval()\n",
    "with torch.inference_mode():\n",
    "    load_m1_preds = load_m1(X_test)\n",
    "    \n",
    "load_m1_preds"
   ]
  },
  {
   "cell_type": "code",
   "execution_count": 29,
   "metadata": {},
   "outputs": [
    {
     "data": {
      "text/plain": [
       "tensor([[True],\n",
       "        [True],\n",
       "        [True],\n",
       "        [True],\n",
       "        [True],\n",
       "        [True],\n",
       "        [True],\n",
       "        [True],\n",
       "        [True],\n",
       "        [True]])"
      ]
     },
     "execution_count": 29,
     "metadata": {},
     "output_type": "execute_result"
    }
   ],
   "source": [
    "y_preds == load_m1_preds"
   ]
  },
  {
   "cell_type": "code",
   "execution_count": 30,
   "metadata": {},
   "outputs": [
    {
     "data": {
      "text/plain": [
       "tensor([[0.8804],\n",
       "        [0.8935],\n",
       "        [0.9066],\n",
       "        [0.9196],\n",
       "        [0.9327],\n",
       "        [0.9457],\n",
       "        [0.9588],\n",
       "        [0.9718],\n",
       "        [0.9849],\n",
       "        [0.9980]])"
      ]
     },
     "execution_count": 30,
     "metadata": {},
     "output_type": "execute_result"
    }
   ],
   "source": [
    "m1.eval()\n",
    "with torch.inference_mode():\n",
    "    y_preds = m1(X_test)\n",
    "    \n",
    "y_preds"
   ]
  },
  {
   "cell_type": "code",
   "execution_count": 27,
   "metadata": {},
   "outputs": [
    {
     "name": "stdout",
     "output_type": "stream",
     "text": [
      "Thu Jul 10 10:46:55 2025       \n",
      "+-----------------------------------------------------------------------------------------+\n",
      "| NVIDIA-SMI 575.64.01              Driver Version: 576.88         CUDA Version: 12.9     |\n",
      "|-----------------------------------------+------------------------+----------------------+\n",
      "| GPU  Name                 Persistence-M | Bus-Id          Disp.A | Volatile Uncorr. ECC |\n",
      "| Fan  Temp   Perf          Pwr:Usage/Cap |           Memory-Usage | GPU-Util  Compute M. |\n",
      "|                                         |                        |               MIG M. |\n",
      "|=========================================+========================+======================|\n",
      "|   0  NVIDIA GeForce RTX 4070 ...    On  |   00000000:01:00.0  On |                  N/A |\n",
      "| N/A   50C    P8              3W /  115W |     561MiB /   8188MiB |      0%      Default |\n",
      "|                                         |                        |                  N/A |\n",
      "+-----------------------------------------+------------------------+----------------------+\n",
      "                                                                                         \n",
      "+-----------------------------------------------------------------------------------------+\n",
      "| Processes:                                                                              |\n",
      "|  GPU   GI   CI              PID   Type   Process name                        GPU Memory |\n",
      "|        ID   ID                                                               Usage      |\n",
      "|=========================================================================================|\n",
      "|  No running processes found                                                             |\n",
      "+-----------------------------------------------------------------------------------------+\n"
     ]
    }
   ],
   "source": [
    "!nvidia-smi\n"
   ]
  }
 ],
 "metadata": {
  "kernelspec": {
   "display_name": ".venv",
   "language": "python",
   "name": "python3"
  },
  "language_info": {
   "codemirror_mode": {
    "name": "ipython",
    "version": 3
   },
   "file_extension": ".py",
   "mimetype": "text/x-python",
   "name": "python",
   "nbconvert_exporter": "python",
   "pygments_lexer": "ipython3",
   "version": "3.12.3"
  }
 },
 "nbformat": 4,
 "nbformat_minor": 2
}
